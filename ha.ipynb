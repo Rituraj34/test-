{
 "cells": [
  {
   "cell_type": "markdown",
   "metadata": {},
   "source": [
    "Write a program that asks the user to enter a number and checks whether it is positive, negative, or zero. "
   ]
  },
  {
   "cell_type": "code",
   "execution_count": null,
   "metadata": {},
   "outputs": [],
   "source": [
    "number = float(input(\"Enter a number: \"))\n",
    "\n",
    "if number > 0:\n",
    "    print(\"The number is positive.\")\n",
    "elif number < 0:\n",
    "    print(\"The number is negative.\")\n",
    "else:\n",
    "    print(\"The number is zero.\")"
   ]
  },
  {
   "cell_type": "markdown",
   "metadata": {},
   "source": [
    "Write a program that asks the user to enter their age and checks if they are eligible to vote (18 years or older)."
   ]
  },
  {
   "cell_type": "code",
   "execution_count": null,
   "metadata": {},
   "outputs": [],
   "source": [
    "age = int(input(\"Enter your age: \"))\n",
    "if age >= 18:\n",
    "    print(\"You are eligible to vote.\")\n",
    "else:\n",
    "    print(\"You are not eligible to vote.\")"
   ]
  },
  {
   "cell_type": "markdown",
   "metadata": {},
   "source": [
    "Write a program that asks the user to enter a number and checks whether the number is even or odd."
   ]
  },
  {
   "cell_type": "code",
   "execution_count": null,
   "metadata": {},
   "outputs": [],
   "source": [
    "number = int(input(\"Enter a number: \"))\n",
    "if number % 2 == 0:\n",
    "    print(\"The number is even.\")\n",
    "else:\n",
    "    print(\"The number is odd.\")"
   ]
  },
  {
   "cell_type": "code",
   "execution_count": null,
   "metadata": {},
   "outputs": [],
   "source": [
    "Write a program that takes the lengths of three sides of a triangle as input and determines if the triangle is: \n",
    "○ Equilateral (all sides are equal) \n",
    "○ Isosceles (two sides are equal) \n",
    "○ Scalene (all sides are different)"
   ]
  },
  {
   "cell_type": "code",
   "execution_count": null,
   "metadata": {},
   "outputs": [],
   "source": [
    "def triangle_type(a, b, c):\n",
    "    if a <= 0 or b <= 0 or c <= 0:\n",
    "        return \"Invalid side lengths\"\n",
    "    if a == b == c:\n",
    "        return \"Equilateral\"\n",
    "    elif a == b or b == c or a == c:\n",
    "        return \"Isosceles\"\n",
    "    else:\n",
    "        return \"Scalene\"\n",
    "\n",
    "a = float(input(\"Enter the length of side a: \"))\n",
    "b = float(input(\"Enter the length of side b: \"))\n",
    "c = float(input(\"Enter the length of side c: \"))\n",
    "\n",
    "result = triangle_type(a, b, c)\n",
    "print(\"The triangle is:\", result)"
   ]
  },
  {
   "cell_type": "markdown",
   "metadata": {},
   "source": [
    "Write a program that asks the user to enter a password and checks if it matches a predefined password (e.g., \"Python123\")."
   ]
  },
  {
   "cell_type": "code",
   "execution_count": null,
   "metadata": {},
   "outputs": [],
   "source": [
    "# Predefined password\n",
    "predefined_password = \"rituraj19\"\n",
    "\n",
    "# Ask user for password\n",
    "user_password = input(\"Please enter your password: \")\n",
    "\n",
    "# Check if the entered password matches the predefined password\n",
    "if user_password == predefined_password:\n",
    "    print(\"Access granted.\")\n",
    "else:\n",
    "    print(\"Access denied.\")"
   ]
  },
  {
   "cell_type": "markdown",
   "metadata": {},
   "source": [
    "Multiplication Table: Write a Python program to print the multiplication table of a given number using a for loop. Example: \n",
    "○ Input: 5 \n",
    "○ Output: 5, 10, 15, ..., 50"
   ]
  },
  {
   "cell_type": "code",
   "execution_count": null,
   "metadata": {},
   "outputs": [],
   "source": [
    "def multiplication_table(number):\n",
    "    # Initialize an empty list to store the results\n",
    "    results = []\n",
    "    \n",
    "    # Loop through numbers 1 to 10 to generate the multiplication table\n",
    "    for i in range(1, 11):\n",
    "        results.append(number * i)\n",
    "    \n",
    "    # Join the results into a comma-separated string and print\n",
    "    print(\", \".join(map(str, results)))\n",
    "\n",
    "# Input: 5\n",
    "multiplication_table(5)"
   ]
  },
  {
   "cell_type": "markdown",
   "metadata": {},
   "source": [
    "Count Vowels: Write a program to count and display the number of vowels in a given string."
   ]
  },
  {
   "cell_type": "markdown",
   "metadata": {},
   "source": [
    "def count_vowels(input_string):\n",
    "    vowels = \"aeiouAEIOU\"\n",
    "    count = sum(1 for char in input_string if char in vowels)\n",
    "    return count\n",
    "\n",
    "# Example usage\n",
    "input_string = \"Hello, World!\"\n",
    "vowel_count = count_vowels(input_string)\n",
    "print(f\"The number of vowels in the string is: {vowel_count}\")"
   ]
  },
  {
   "cell_type": "code",
   "execution_count": null,
   "metadata": {},
   "outputs": [],
   "source": [
    "Sum of Even Numbers Create a program to find the sum of all even numbers in a list using a for loop. \n",
    "Example: \n",
    "○ Input: [2, 5, 8, 3] \n",
    "○ Output: 10"
   ]
  },
  {
   "cell_type": "code",
   "execution_count": null,
   "metadata": {},
   "outputs": [],
   "source": [
    "def sum_of_even_numbers(numbers):\n",
    "    total = 0\n",
    "    for number in numbers:\n",
    "        if number % 2 == 0:\n",
    "            total += number\n",
    "    return total\n",
    "\n",
    "# Example usage\n",
    "input_list = [2, 9, 4, 8]\n",
    "output = sum_of_even_numbers(input_list)\n",
    "print(output)  # Output: 14"
   ]
  },
  {
   "cell_type": "markdown",
   "metadata": {},
   "source": [
    "Create a program to find the largest and smallest numbers in a list using a for loop. \n",
    "Example: \n",
    "○ Input = [10, 20, 5, 8], Output = Largest = 20, Smallest = 5"
   ]
  },
  {
   "cell_type": "code",
   "execution_count": null,
   "metadata": {},
   "outputs": [],
   "source": [
    "def find_largest_and_smallest(numbers):\n",
    "    largest = numbers[0]\n",
    "    smallest = numbers[0]\n",
    "    \n",
    "    for number in numbers:\n",
    "        if number > largest:\n",
    "            largest = number\n",
    "        if number < smallest:\n",
    "            smallest = number\n",
    "            \n",
    "    return largest, smallest\n",
    "\n",
    "# Example usage\n",
    "input_list = [50, 6, 5, 1, 100, 89]\n",
    "largest, smallest = find_largest_and_smallest(input_list)\n",
    "print(f'Largest = {largest}, Smallest = {smallest}')"
   ]
  },
  {
   "cell_type": "code",
   "execution_count": null,
   "metadata": {},
   "outputs": [],
   "source": [
    "Write a program to reverse a given string using a for loop. Example: Input = \"Python\", Output = \"nohtyP\""
   ]
  },
  {
   "cell_type": "code",
   "execution_count": null,
   "metadata": {},
   "outputs": [],
   "source": [
    "def reverse_string(input_string):\n",
    "    reversed_string = \"\"\n",
    "    for char in input_string:\n",
    "        reversed_string = char + reversed_string\n",
    "    return reversed_string\n",
    "\n",
    "# Example usage\n",
    "input_str = \"rituraj\"\n",
    "output_str = reverse_string(input_str)\n",
    "print(output_str)  # Output: \"jarutir\""
   ]
  },
  {
   "cell_type": "markdown",
   "metadata": {},
   "source": [
    "Write a program to calculate the sum of digits of a given number using a for loop. \n",
    "Example: Input = 1234, Output = 10"
   ]
  },
  {
   "cell_type": "code",
   "execution_count": null,
   "metadata": {},
   "outputs": [],
   "source": [
    "def sum_of_digits(number):\n",
    "    total = 0\n",
    "    for digit in str(number):\n",
    "        total += int(digit)\n",
    "    return total\n",
    "\n",
    "# Example usage\n",
    "input_number = 8976\n",
    "output = sum_of_digits(input_number)\n",
    "print(f\"Input = {input_number}, Output = {output}\")"
   ]
  }
 ],
 "metadata": {
  "language_info": {
   "name": "python"
  }
 },
 "nbformat": 4,
 "nbformat_minor": 2
}
